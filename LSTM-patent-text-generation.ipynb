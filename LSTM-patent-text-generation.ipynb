{
 "cells": [
  {
   "cell_type": "markdown",
   "metadata": {},
   "source": [
    "# Text generation\n",
    "This demo explores how long short-term memory (LSTM) units of a neural network can be used to generate sequence data such as text. We try to learn the latent space of specific type of language model, patent descriptions, and train our neural network to predict the next character of a text sequence drawn from this probabilistic space. When we apply this process iteratively, we can generate completely new patent descriptions from an initial seed phrase. "
   ]
  },
  {
   "cell_type": "markdown",
   "metadata": {},
   "source": [
    "## Prerequisites\n",
    "Make sure that you have Python 3.+ installed.\n",
    "This demo uses Keras, a high-level deep-learning framework with TensorFlow backend.\n",
    "\n",
    "If you have not setup Keras on your machine, first, install Tensorflow from terminal:\n",
    "`pip install tensorflow`\n",
    "\n",
    "And Keras next:\n",
    "`pip install keras`\n",
    "\n",
    "This demo uses also the following dependencies: **wget numpy zipfile tqdm**\n",
    "To make sure you have these, run\n",
    "\n",
    "`pip install wget numpy zipfile tqdm`\n",
    "\n",
    "__Note: You may have to reopen this notebook after installing packages.__"
   ]
  },
  {
   "cell_type": "code",
   "execution_count": 15,
   "metadata": {},
   "outputs": [
    {
     "name": "stderr",
     "output_type": "stream",
     "text": [
      "Using TensorFlow backend.\n"
     ]
    },
    {
     "data": {
      "text/plain": [
       "'2.1.6'"
      ]
     },
     "execution_count": 15,
     "metadata": {},
     "output_type": "execute_result"
    }
   ],
   "source": [
    "import keras\n",
    "keras.__version__"
   ]
  },
  {
   "cell_type": "markdown",
   "metadata": {},
   "source": [
    "## Download data\n",
    "First, we get our patent data from USPTO database (http://www.patentsview.org/download/). For this case, we use the brief summary dataset (13.51 GB).\n",
    "\n",
    "**Note: This is a large text dataset (>50 GB).**"
   ]
  },
  {
   "cell_type": "code",
   "execution_count": 10,
   "metadata": {},
   "outputs": [],
   "source": [
    "import wget\n",
    "import os\n",
    "\n",
    "zip_path = './brf_sum_text.tsv.zip'\n",
    "if not os.path.isfile(zip_path):\n",
    "    print('Downloading dataset ')\n",
    "    url = 'http://s3.amazonaws.com/data-patentsview-org/20180528/download/brf_sum_text.tsv.zip'\n",
    "    zip_path = wget.download(url)\n",
    "    print('')\n",
    "    print('File downloaded: ' + zip_path)\n"
   ]
  },
  {
   "cell_type": "markdown",
   "metadata": {},
   "source": [
    "## Prepare data\n",
    "Next, we need to unzip the file contents."
   ]
  },
  {
   "cell_type": "code",
   "execution_count": 11,
   "metadata": {},
   "outputs": [],
   "source": [
    "def subfolders(path_to_parent):\n",
    "     try:\n",
    "        return next(os.walk(path_to_parent))[1]\n",
    "     except StopIteration:\n",
    "        return []"
   ]
  },
  {
   "cell_type": "code",
   "execution_count": 19,
   "metadata": {},
   "outputs": [
    {
     "name": "stdout",
     "output_type": "stream",
     "text": [
      "Dataset file: ./data/20180528/bulk-downloads/brf_sum_text.tsv\n"
     ]
    }
   ],
   "source": [
    "import zipfile\n",
    "\n",
    "base_dir = './'\n",
    "\n",
    "if not os.path.isdir('./data'):\n",
    "    print('unzipping...')\n",
    "    with zipfile.ZipFile(zip_path , 'r') as zip_ref:\n",
    "        zip_ref.extractall(base_dir)\n",
    "    print('done')\n",
    "    \n",
    "text_dir = subfolders('./data')[0]\n",
    "text_file = './data/' + text_dir + '/bulk-downloads/brf_sum_text.tsv'\n",
    "\n",
    "print('Dataset file: ' + text_file)"
   ]
  },
  {
   "cell_type": "markdown",
   "metadata": {},
   "source": [
    "For practical reasons we only read the first 500 lines of the full patent description dataset. This should give us around 1 million characters which is enough text to learn from."
   ]
  },
  {
   "cell_type": "code",
   "execution_count": 43,
   "metadata": {},
   "outputs": [
    {
     "name": "stderr",
     "output_type": "stream",
     "text": [
      "100%|█████████████████████████████████████████████████████████████████████████████| 100/100 [00:00<00:00, 14288.70it/s]\n"
     ]
    },
    {
     "name": "stdout",
     "output_type": "stream",
     "text": [
      "Total text length: 947785\n"
     ]
    }
   ],
   "source": [
    "import keras\n",
    "import numpy as np\n",
    "from tqdm import tqdm\n",
    "\n",
    "new_text = []\n",
    "read_lines = 100\n",
    "with open(text_file, 'r', encoding='utf8') as f:\n",
    "    for i in tqdm(range(read_lines)):\n",
    "        new_text.append(f.readline())\n",
    "        \n",
    "text = ''.join(new_text)\n",
    "print('Total text length:', len(text))"
   ]
  },
  {
   "cell_type": "code",
   "execution_count": 44,
   "metadata": {},
   "outputs": [
    {
     "name": "stdout",
     "output_type": "stream",
     "text": [
      "Number of sequences: 315909\n",
      "Unique characters: 126\n",
      "['\\t', '\\n', ' ', '!', '\"', '#', '%', '&', \"'\", '(', ')', '*', '+', ',', '-', '.', '/', '0', '1', '2', '3', '4', '5', '6', '7', '8', '9', ':', ';', '<', '=', '>', 'A', 'B', 'C', 'D', 'E', 'F', 'G', 'H', 'I', 'J', 'K', 'L', 'M', 'N', 'O', 'P', 'Q', 'R', 'S', 'T', 'U', 'V', 'W', 'X', 'Y', 'Z', '[', ']', '_', 'a', 'b', 'c', 'd', 'e', 'f', 'g', 'h', 'i', 'j', 'k', 'l', 'm', 'n', 'o', 'p', 'q', 'r', 's', 't', 'u', 'v', 'w', 'x', 'y', 'z', '{', '|', '}', '~', '§', '©', '®', '°', '·', '½', '×', 'é', 'Ē', 'Δ', 'α', 'β', 'γ', 'ε', 'θ', 'κ', 'λ', 'μ', 'π', 'τ', '\\u2003', '–', '—', '‘', '’', '“', '”', '′', '″', 'Å', '→', '−', '≡', '≦', '═']\n",
      "Vectorization...\n"
     ]
    },
    {
     "name": "stderr",
     "output_type": "stream",
     "text": [
      "315909it [00:05, 56030.12it/s]\n"
     ]
    },
    {
     "name": "stdout",
     "output_type": "stream",
     "text": [
      "done\n"
     ]
    }
   ],
   "source": [
    "## This part of code is copied from 2017 François Chollet:\n",
    "## https://github.com/fchollet/deep-learning-with-python-notebooks/\n",
    "\n",
    "# Length of extracted character sequences\n",
    "maxlen = 60\n",
    "\n",
    "# We sample a new sequence every `step` characters\n",
    "step = 3\n",
    "\n",
    "# This holds our extracted sequences\n",
    "sentences = []\n",
    "\n",
    "# This holds the targets (the follow-up characters)\n",
    "next_chars = []\n",
    "\n",
    "for i in range(0, len(text) - maxlen, step):\n",
    "    sentences.append(text[i: i + maxlen])\n",
    "    next_chars.append(text[i + maxlen])\n",
    "print('Number of sequences:', len(sentences))\n",
    "\n",
    "# List of unique characters in the corpus\n",
    "chars = sorted(list(set(text)))\n",
    "print('Unique characters:', len(chars))\n",
    "print(chars)\n",
    "# Dictionary mapping unique characters to their index in `chars`\n",
    "char_indices = dict((char, chars.index(char)) for char in chars)\n",
    "\n",
    "# Next, one-hot encode the characters into binary arrays.\n",
    "print('Vectorization...')\n",
    "x = np.zeros((len(sentences), maxlen, len(chars)), dtype=np.bool)\n",
    "y = np.zeros((len(sentences), len(chars)), dtype=np.bool)\n",
    "for i, sentence in tqdm(enumerate(sentences)):\n",
    "    for t, char in enumerate(sentence):\n",
    "        x[i, t, char_indices[char]] = 1\n",
    "    y[i, char_indices[next_chars[i]]] = 1\n",
    "    \n",
    "print('done')"
   ]
  },
  {
   "cell_type": "markdown",
   "metadata": {},
   "source": [
    "## Build network\n",
    "Here we use two layers of `LSTM` with 256 hidden units each, `dropout` layer and a final `softmax` activation."
   ]
  },
  {
   "cell_type": "code",
   "execution_count": 45,
   "metadata": {},
   "outputs": [],
   "source": [
    "from keras import layers\n",
    "from keras.layers import Dropout\n",
    "\n",
    "model = keras.models.Sequential()\n",
    "model.add(layers.LSTM(256, return_sequences=True ,input_shape=(maxlen, len(chars))))\n",
    "model.add(layers.LSTM(256))\n",
    "model.add(Dropout(0.2))\n",
    "model.add(layers.Dense(len(chars), activation='softmax'))"
   ]
  },
  {
   "cell_type": "markdown",
   "metadata": {},
   "source": [
    "For optimizer, we use `adam` with `categorical_crossentropy`"
   ]
  },
  {
   "cell_type": "code",
   "execution_count": 46,
   "metadata": {},
   "outputs": [],
   "source": [
    "model.compile(loss='categorical_crossentropy', optimizer='adam')"
   ]
  },
  {
   "cell_type": "markdown",
   "metadata": {},
   "source": [
    "## Train"
   ]
  },
  {
   "cell_type": "code",
   "execution_count": 41,
   "metadata": {},
   "outputs": [],
   "source": [
    "def sample(preds, temperature=1.0):\n",
    "    preds = np.asarray(preds).astype('float64')\n",
    "    preds = np.log(preds) / temperature\n",
    "    exp_preds = np.exp(preds)\n",
    "    preds = exp_preds / np.sum(exp_preds)\n",
    "    probas = np.random.multinomial(1, preds, 1)\n",
    "    return np.argmax(probas)"
   ]
  },
  {
   "cell_type": "code",
   "execution_count": 50,
   "metadata": {},
   "outputs": [
    {
     "name": "stdout",
     "output_type": "stream",
     "text": [
      "epoch 1\n",
      "training...\n",
      "Seed text: \"about 6. Ambient temperatures or below (to just above freezi\"\n",
      "about 6. Ambient temperatures or below (to just above freezion on siciclentuen in merecting the condent er he for porine pectacter in anede (IN ar pelate an the are the roplor of ar the an of the the the ar and in mation the ang if whe the the ancing an the sement an are af the coster be the and in an the the of the mored an at an at en an the the a of the mate menal on fpered cores the the coted the purecod she the on ame encatee the conged are cons of a \n",
      "epoch 2\n",
      "training...\n",
      "Seed text: \"no longer functions to wipe out the ink. SUMMARY OF THE INVE\"\n",
      "no longer functions to wipe out the ink. SUMMARY OF THE INVE0, 25 15000, or .0 the to conding the prepent of the preses in the conterment appline of the proventi sigcher of the prosent of the preferent of the store the statent the sistor a deteration to mawe inclate procent for a sigrtally and the presed in the preser and the prection of the secon the sibe with the tepere the such seched the prefering the stacting a conces in the isster in the comber and a\n",
      "epoch 3\n",
      "training...\n",
      "Seed text: \"ction media being kept constantly basic (pH=9-11) and procee\"\n",
      "ction media being kept constantly basic (pH=9-11) and proceeration for a methods for the suctications are recearing the contaces and to a provide of the presention plarable matere indetion ardent include of the recorded to present of the direction of the presenting there of the mortion to the fartication of a seried to at a metal a perfice to and of the componation of the subfection to a sead a component and the first mead controlsimetion of the present in\n",
      "epoch 4\n",
      "training...\n",
      "Seed text: \"evel of the signal lines. Said high permittivity material is\"\n",
      "evel of the signal lines. Said high permittivity material is inconding to the perponent a polymert of the controller for intertable provers of the present in entation is at a method by a control are second by which which a substrating the second device for the present invention is the stating processing a contact of the detecting a control of the frequent of the reaction where and a control and a side according an a control controller between a material to\n",
      "epoch 5\n",
      "training...\n",
      "Seed text: \" and which is stable in a dilute aqueous solution at a pH fo\"\n",
      " and which is stable in a dilute aqueous solution at a pH formed in the detector in the second are selection in a process in the connected to proved be formation. The first elements one or sensition of a second with the contact power component and the oxide and defined in the present invention is provided by encording and one of the present invention and the present invention is output to the relation as also contious out under to provide and the present i\n",
      "epoch 6\n",
      "training...\n",
      "Seed text: \"detector” (PSD) for the commonly used larger arrays. The adv\"\n",
      "detector” (PSD) for the commonly used larger arrays. The advantages of a control and alkotaling composing a first meass of the has a conventional systemment of the seach to the convention of the invention description of the second in a polymers to control mist decond convention sensor to optical signal systems, wherein the second by the optical system with the process that and include and an invention is provided in the first component invention data in an\n",
      "epoch 7\n",
      "training...\n",
      "Seed text: \"ations effective for inducing a perception of enhanced energ\"\n",
      "ations effective for inducing a perception of enhanced energy, a compound for contact with the signal and the charate of the configured to the communication of the device and the stand of size of the drawing may be the standing containing the second to a not one or more of the desired to the system in the amplitude another desired in the second an entages to the specifical field. The second side in the actions of the statist signal of the pirclation of the\n",
      "epoch 8\n",
      "training...\n",
      "Seed text: \" recognized that the toll could be reduced if people within \"\n",
      " recognized that the toll could be reduced if people within the second or more surface to a temperature in the first disposed for variallysic data. In sensitivity of preferred to the second excens and a component in a component waveforms in the or more methods of the following an anticles with bits applied to respect to the form of the frame in the dry device intervely and the transigntally in an accuss of the present invention processing and a preventing \n",
      "epoch 9\n",
      "training...\n",
      "Seed text: \"ot limited to cyclopropyl, cyclopentyl, cyclohexyl, bicycloh\"\n",
      "ot limited to cyclopropyl, cyclopentyl, cyclohexyl, bicyclohic acid rependentials are and and a second adjustment and dispossible to the present invention provided to the material that the read to the second components and the series are is still the same plation of the present invention and the sensitivity is provided and the present invention protein to provide a resulting the substrate may be convertion to a method of the second memory contain terminal \n",
      "epoch 10\n",
      "training...\n",
      "Seed text: \"hod has a problem that it requires the firing step at a high\"\n",
      "hod has a problem that it requires the firing step at a high present invention contact to the system in the substantially in a method of the percent decomples of the respect to the present device and a conventional composition provider an image provided an electronic action of the signal of the present invention is a process and a process that are optionally, the signal in the plunger such as desired in a methods of the syringe which component waveforms th\n",
      "epoch 11\n",
      "training...\n",
      "Seed text: \"e physical vapor deposition (PVD), also known as sputtering,\"\n",
      "e physical vapor deposition (PVD), also known as sputtering, and results of a memory of a modulation of the present invention to a determine the manufacture is control and the side of the syringe reduction of the connection at the series of the module of a surface of the present invention for application of the conductive of the state of the present invention is described in the percent data in the second disposed in a substrate and the stermine and the se\n",
      "epoch 12\n",
      "training...\n",
      "Seed text: \" board. A static memory device according to a third aspect o\"\n",
      " board. A static memory device according to a third aspect of the present invention is to the first reduction of the art of the situal along the waveform parameters from the second that have a second polymer in the conveyed, in a data of the invention can be used for a suitable method of the present invention is provided by a transmit the article methods of the first connected to a connection to the structure sensitivity of the control and the condition in\n",
      "epoch 13\n",
      "training...\n",
      "Seed text: \"ge exceeding five millimeters. It is more preferable that ea\"\n",
      "ge exceeding five millimeters. It is more preferable that each of the first comprising a state of the present invention to provide a fixed or not use such as a compound of the plurality of disclosed in a predetermined and the first compound of the substrate system produce sensitivity of the polymerizable liquid crystalline material in the control between the invention from another to the series of a discharging and a reduced processing and the material and\n",
      "epoch 14\n",
      "training...\n",
      "Seed text: \"s to exist in the resulting products and will typically decr\"\n",
      "s to exist in the resulting products and will typically decrease in the present invention is different to contact elements at least one apparatus in side-lobe containing the above, and a processor may be formed entine is the apparatus from the original portion of the above said first and comprising a polishing and a second component waveform parameters are convertion of the amplitude station is formed in the invention comprising a single and second or all \n",
      "epoch 15\n",
      "training...\n",
      "Seed text: \"h glutaraldehyde. The latter is then bound to specific antib\"\n"
     ]
    },
    {
     "name": "stdout",
     "output_type": "stream",
     "text": [
      "h glutaraldehyde. The latter is then bound to specific antibody in the respect to the exposure film the present discless such as a second control of the invention to provide a second layer is configured to to local the present invention to provide a material and an amplitude step include a high space of the component with the present invention is an improved are alloys a first device in the adjustment format charge imbalance of the component waveform curre\n",
      "epoch 16\n",
      "training...\n",
      "Seed text: \"owever, a problem in reducing the bit width by cutting off a\"\n",
      "owever, a problem in reducing the bit width by cutting off and advantageous and amplitude side of the tube of the present invention is advantageous preferably device in the amplitude modulation as a predetermined methods are selected for deginged in the the present invention to provide a color adjustment waveform parameters of the present invention also sumplitition of a plurality of material by an optical poly containing the convert to the transmitting a \n",
      "epoch 17\n",
      "training...\n",
      "Seed text: \" user adjustment to the perceived intensity may be applied t\"\n",
      " user adjustment to the perceived intensity may be applied to the connection teperation of the present invention to be conventional specification of the status of the specific compound in the signal may be decomple can be referred to and the signal electrode and a problem and the material for the present invention is including the manufacturing layer is advantageous position of the present invention to provide a tubes are substrated and the color communica\n",
      "epoch 18\n",
      "training...\n",
      "Seed text: \"pulling means and locked by locking means. As a result, a se\"\n",
      "pulling means and locked by locking means. As a result, a second disposed in a processing the signal of the application of the semiconductor device and a second guide and a second time in a control unit and the second memory as a fluid referred to as easily a second control unit and the expression of the second component waveform can be encapted by the output position is dead in a second component waveform comprising a stimulation of the present invention \n",
      "epoch 19\n",
      "training...\n",
      "Seed text: \"tion wavelength can be adjusted by UV band pass filters. The\"\n",
      "tion wavelength can be adjusted by UV band pass filters. The dispersion in the control unit and processing interference is interrabled in which the the status of the module in discharged by the art compaters for an extraction, the present invention from the second station of the present invention to provide a second device and a plurality of light is located by an improved position of a metal chelated in the second through the control unit and the repetiti\n",
      "epoch 20\n",
      "training...\n",
      "Seed text: \"ous sodium hydroxide: a 2-chloro-aryl-acetyl chloride is for\"\n",
      "ous sodium hydroxide: a 2-chloro-aryl-acetyl chloride is formed and attached to the winding. An ensemble waveform paramet"
     ]
    },
    {
     "name": "stderr",
     "output_type": "stream",
     "text": [
      "c:\\users\\joni\\appdata\\local\\programs\\python\\python36\\lib\\site-packages\\ipykernel_launcher.py:3: RuntimeWarning: divide by zero encountered in log\n",
      "  This is separate from the ipykernel package so we can avoid doing imports until\n"
     ]
    },
    {
     "name": "stdout",
     "output_type": "stream",
     "text": [
      "ers of a portable scaling discharging material to the present invention allows in the presence of a particular state or the present invention for a design from the compact powder is completes, the method for the limiter such a company intensive and advantageous emission portions of a problem is provided with a lower light are positioning\n",
      "epoch 21\n",
      "training...\n",
      "Seed text: \"sulting from suspected potential infection from syringe use.\"\n",
      "sulting from suspected potential infection from syringe use. The above-mentioned control unit may be configured to addition the transient a single polymerizable methods or transmitted in a method of the present invention relates to a during the component waveform may be configured to the percent duty cycle and a processor for a predetermined in the art to provide a process that the substrate that is embodiment, and the controller in a processor element com\n",
      "epoch 22\n",
      "training...\n",
      "Seed text: \"red clad material comprising an iron type material layer and\"\n",
      "red clad material comprising an iron type material layer and apparatuses and the second guide in the range of the steel material so as to fore a second aspect of the present invention is to provide a corrosive same pressure in the present invention is not further include the subject of the present invention for producing a substrate end of the object of the main memory board is well as the second display microspeed of the second signal in a second message \n",
      "epoch 23\n",
      "training...\n",
      "Seed text: \"cetates such as methyl, ethyl or butyl acetate or methyl ace\"\n",
      "cetates such as methyl, ethyl or butyl acetate or methyl acetone (11) in a control of the processor of the receiver adventitured by a display selective surface to provide a method for the component waveform compounds are repeatedly and the tubular elements of the present invention, a color correction in a separation in the present invention allows a second component waveform capacity of the data computer recording and reproducing apparatus of the material \n",
      "epoch 24\n",
      "training...\n",
      "Seed text: \"the invention is to provide an installation of the type spec\"\n",
      "the invention is to provide an installation of the type specified by the ensemble waveform parameters from the plunger red spectrical signal but the location of the component waveform to preferably a radiator by and a second position in the receiver change and a capacity bean polymerizable methods. The present invention, there is provided in the range integration of the component waveform may be configured to control the the system for controlling the read\n"
     ]
    }
   ],
   "source": [
    "## This part of code is mostly copied from 2017 François Chollet:\n",
    "## https://github.com/fchollet/deep-learning-with-python-notebooks/\n",
    "\n",
    "import random\n",
    "import sys\n",
    "\n",
    "for epoch in range(1, 25):\n",
    "    print('epoch', epoch)\n",
    "    print('training...')\n",
    "    # Fit the model for 1 epoch on the available training data\n",
    "    model.fit(x, y,\n",
    "              batch_size=128,\n",
    "              epochs=1, verbose=0)\n",
    "\n",
    "    # Select a text seed at random\n",
    "    start_index = random.randint(0, len(text) - maxlen - 1)\n",
    "    generated_text = text[start_index: start_index + maxlen]\n",
    "    print('Seed text: \"' + generated_text + '\"')\n",
    "\n",
    "    sys.stdout.write(generated_text)\n",
    "\n",
    "    # We generate 400 characters\n",
    "    for i in range(400):\n",
    "        sampled = np.zeros((1, maxlen, len(chars)))\n",
    "        for t, char in enumerate(generated_text):\n",
    "            sampled[0, t, char_indices[char]] = 1.\n",
    "\n",
    "        preds = model.predict(sampled, verbose=0)[0]\n",
    "        next_index = sample(preds, 0.5)\n",
    "        next_char = chars[next_index]\n",
    "\n",
    "        generated_text += next_char\n",
    "        generated_text = generated_text[1:]\n",
    "\n",
    "        sys.stdout.write(next_char)\n",
    "        sys.stdout.flush()\n",
    "    print()"
   ]
  },
  {
   "cell_type": "code",
   "execution_count": null,
   "metadata": {},
   "outputs": [],
   "source": []
  }
 ],
 "metadata": {
  "kernelspec": {
   "display_name": "Python 3",
   "language": "python",
   "name": "python3"
  },
  "language_info": {
   "codemirror_mode": {
    "name": "ipython",
    "version": 3
   },
   "file_extension": ".py",
   "mimetype": "text/x-python",
   "name": "python",
   "nbconvert_exporter": "python",
   "pygments_lexer": "ipython3",
   "version": "3.6.5"
  }
 },
 "nbformat": 4,
 "nbformat_minor": 2
}
